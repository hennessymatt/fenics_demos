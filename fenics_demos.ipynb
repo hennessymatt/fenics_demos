{
 "cells": [
  {
   "cell_type": "markdown",
   "metadata": {
    "slideshow": {
     "slide_type": "slide"
    }
   },
   "source": [
    "# FEniCS Demos\n",
    "\n",
    "### Matt Hennessy"
   ]
  },
  {
   "cell_type": "markdown",
   "metadata": {
    "slideshow": {
     "slide_type": "slide"
    }
   },
   "source": [
    "# Recap of last week...\n",
    "\n",
    "### Steps needed when using FEM\n",
    "\n",
    "* Derive the weak form of the problem\n",
    "* Create a mesh for the domain\n",
    "* Choose finite elements (cell geometry + basis functions)\n",
    "* Assemble the equations locally and then globally\n",
    "* Solve!\n"
   ]
  },
  {
   "cell_type": "markdown",
   "metadata": {
    "slideshow": {
     "slide_type": "slide"
    }
   },
   "source": [
    "# What is (and isn't) FEnICS?\n",
    "\n",
    "An open-source Python/C++ library for solving ODEs and PDEs using finite elements\n",
    "* Very high level\n",
    "* Parallelised\n",
    "* Well maintained, lots of documentation, large user community\n",
    "\n",
    "FEniCS is **not** a GUI-based program with pre-defined models like COMSOL or Abaqus"
   ]
  },
  {
   "cell_type": "markdown",
   "metadata": {
    "slideshow": {
     "slide_type": "slide"
    }
   },
   "source": [
    "# Example 1 - Poisson's equation\n",
    "\n",
    "Let's solve\n",
    "\\begin{align}\n",
    "\\nabla^2 u + f = 0 \\quad &\\text{in $\\Omega$} \\\\\n",
    "u = 0 \\quad &\\text{on $\\partial \\Omega$}\n",
    "\\end{align}\n",
    "\n",
    "For simplicity, let's take $\\Omega$ to be the unit square"
   ]
  },
  {
   "cell_type": "markdown",
   "metadata": {
    "slideshow": {
     "slide_type": "slide"
    }
   },
   "source": [
    "# The weak form\n",
    "\n",
    "Recall that the weak form is given by\n",
    "\n",
    "\\begin{align}\n",
    "\\underbrace{-\\int_{\\Omega} \\nabla u \\cdot \\nabla v\\, dx + \\int_{\\Omega} f v\\, dx}_F = 0 \\quad \\text{for all $v \\in V_h$}\n",
    "\\end{align}\n"
   ]
  },
  {
   "cell_type": "markdown",
   "metadata": {
    "slideshow": {
     "slide_type": "slide"
    }
   },
   "source": [
    "# FEniCS Code"
   ]
  },
  {
   "cell_type": "code",
   "execution_count": 1,
   "metadata": {
    "slideshow": {
     "slide_type": "-"
    }
   },
   "outputs": [],
   "source": [
    "from fenics import *\n",
    "import matplotlib.pyplot as plt\n",
    "\n",
    "N = 20\n",
    "mesh = UnitSquareMesh(N, N)\n",
    "\n",
    "P1 = FiniteElement('CG', 'triangle', 1)\n",
    "Vh = FunctionSpace(mesh, P1)\n",
    "\n",
    "u = Function(Vh)\n",
    "v = TestFunction(Vh)\n",
    "\n",
    "def boundaries(x):\n",
    "    return near(x[0], 0) or near(x[0], 1) or near(x[1], 0) or near(x[1], 1)\n",
    "\n",
    "bc = DirichletBC(Vh, 0.0, boundaries)\n",
    "\n",
    "f = 1.0\n",
    "F = -dot(grad(u), grad(v)) * dx + f * v * dx\n",
    "\n",
    "solve(F == 0, u, bc)"
   ]
  },
  {
   "cell_type": "markdown",
   "metadata": {
    "slideshow": {
     "slide_type": "slide"
    }
   },
   "source": [
    "# Outputs"
   ]
  },
  {
   "cell_type": "code",
   "execution_count": 3,
   "metadata": {
    "slideshow": {
     "slide_type": "-"
    }
   },
   "outputs": [
    {
     "name": "stdout",
     "output_type": "stream",
     "text": [
      "0.0735267092333906\n"
     ]
    },
    {
     "data": {
      "text/plain": [
       "<matplotlib.tri.tricontour.TriContourSet at 0x7fe8b40d3850>"
      ]
     },
     "execution_count": 3,
     "metadata": {},
     "output_type": "execute_result"
    },
    {
     "data": {
      "image/png": "[encoded data removed]",
      "text/plain": [
       "<Figure size 432x288 with 1 Axes>"
      ]
     },
     "metadata": {
      "needs_background": "light"
     },
     "output_type": "display_data"
    }
   ],
   "source": [
    "print(u(0.5, 0.5))\n",
    "plot(u)"
   ]
  },
  {
   "cell_type": "markdown",
   "metadata": {
    "slideshow": {
     "slide_type": "slide"
    }
   },
   "source": [
    "# Shape of a liquid drop\n",
    "\n",
    "The shape of a liquid drop resting on a flat surface is given by\n",
    "\\begin{align}\n",
    "\\nabla \\cdot \\left(\\frac{\\nabla h}{\\sqrt{1 + |\\nabla h|^2}}\\right) - B h + p = 0.\n",
    "\\end{align}\n",
    "\n",
    "Here, $h(x,y)$ is the height of the drop at $(x,y)$, $B$ is the Bond number, and $p$ is the liquid pressure. \n",
    "\n",
    "We impose $h = 0$ when $x \\in \\partial \\Omega$"
   ]
  },
  {
   "cell_type": "markdown",
   "metadata": {
    "slideshow": {
     "slide_type": "slide"
    }
   },
   "source": [
    "# Weak form\n",
    "The weak form is given by\n",
    "\\begin{align}\n",
    "\\int_{\\Omega} \\vec{n} \\cdot \\nabla v\\, dx - \\int_{\\Omega} B h v\\, d x + \\int_{\\Omega} p v\\, dx = 0 \\quad \\text{for all $v \\in V_h$}\n",
    "\\end{align}\n",
    "where\n",
    "\\begin{align}\n",
    "\\vec{n} = -\\frac{\\nabla h}{\\sqrt{1 + |\\nabla h|^2}}\n",
    "\\end{align}"
   ]
  },
  {
   "cell_type": "markdown",
   "metadata": {
    "slideshow": {
     "slide_type": "slide"
    }
   },
   "source": [
    "# FEniCS implementation\n",
    "\n",
    "* The ```solve``` function can handle nonlinear problems (Newton's method)\n",
    "* The Jacobian can be computed **analytically** using the ```derivative``` function\n",
    "* The ```interpolate``` method can be used to create a non-zero initial guess"
   ]
  },
  {
   "cell_type": "markdown",
   "metadata": {
    "slideshow": {
     "slide_type": "slide"
    }
   },
   "source": [
    "# FEniCS code"
   ]
  },
  {
   "cell_type": "code",
   "execution_count": 5,
   "metadata": {},
   "outputs": [],
   "source": [
    "from fenics import *\n",
    "import matplotlib.pyplot as plt\n",
    "from timeit import default_timer as timer\n",
    "\n",
    "# define the Bond number and drop pressure\n",
    "B = Constant(1)\n",
    "p = Constant(1)\n",
    "\n",
    "# create a mesh for the unit square\n",
    "N = 30\n",
    "mesh = RectangleMesh(Point(0, 0), Point(1, 1), N, N)\n",
    "\n",
    "# choose elements\n",
    "P1 = FiniteElement('CG', 'triangle', 1)\n",
    "Vh = FunctionSpace(mesh, P1)\n",
    "\n",
    "# define boundaries and create h = 0 boundary condition\n",
    "def boundaries(x):\n",
    "    return near(x[0], 0) or near(x[0], 1) or near(x[1], 0) or near(x[1], 1)\n",
    "\n",
    "bc = DirichletBC(Vh, 0.0, boundaries)\n",
    "\n",
    "# create solution (h) and test function (v)\n",
    "h = Function(Vh)\n",
    "v = TestFunction(Vh)\n",
    "\n",
    "# weak form and Jacobian\n",
    "n = -grad(h) / sqrt(1 + dot(grad(h), grad(h)))\n",
    "F = dot(n, grad(v)) * dx + p * v * dx - B * h * v * dx\n",
    "J = derivative(F, h)\n",
    "\n",
    "# initial guess\n",
    "h_0 = Expression(\"x[0] * (1-x[0]) * x[1] * (1-x[1])\", degree=1)\n",
    "h.interpolate(h_0)\n",
    "\n",
    "# create function to solve the problem and time the calculation\n",
    "def solve_and_time():\n",
    "    start = timer()\n",
    "    solve(F == 0, h, bc, J = J)\n",
    "    end = timer()\n",
    "    print(\"Problem assembled and solved in\", (end - start) * 1000, 'ms')"
   ]
  },
  {
   "cell_type": "code",
   "execution_count": 9,
   "metadata": {
    "slideshow": {
     "slide_type": "slide"
    }
   },
   "outputs": [
    {
     "name": "stdout",
     "output_type": "stream",
     "text": [
      "Problem assembled and solved in 3.0049079996388173 ms\n"
     ]
    },
    {
     "data": {
      "text/plain": [
       "<matplotlib.tri.tricontour.TriContourSet at 0x7fe8905d3580>"
      ]
     },
     "execution_count": 9,
     "metadata": {},
     "output_type": "execute_result"
    },
    {
     "data": {
      "image/png": "[encoded data removed]",
      "text/plain": [
       "<Figure size 432x288 with 1 Axes>"
      ]
     },
     "metadata": {
      "needs_background": "light"
     },
     "output_type": "display_data"
    }
   ],
   "source": [
    "solve_and_time()\n",
    "plot(h)"
   ]
  },
  {
   "cell_type": "markdown",
   "metadata": {
    "slideshow": {
     "slide_type": "slide"
    }
   },
   "source": [
    "# If you want to customise the nonlinear solver...\n",
    "* Use the ```NonlinearVariationalProblem``` class\n",
    "* Can invoke the PETSC SNES solver\n",
    "* Can choose the linear solver (e.g. MUMPS, GMRES, preconditioners, etc)"
   ]
  },
  {
   "cell_type": "markdown",
   "metadata": {
    "slideshow": {
     "slide_type": "fragment"
    }
   },
   "source": [
    "```python\n",
    "problem = NonlinearVariationalProblem(F, X, bcs = bcs, J = J)\n",
    "solver = NonlinearVariationalSolver(problem)\n",
    "\n",
    "solver.parameters['nonlinear_solver'] = 'snes'\n",
    "solver.parameters['snes_solver']['absolute_tolerance'] = 1e-8\n",
    "solver.parameters['snes_solver']['linear_solver'] = 'mumps'\n",
    "```"
   ]
  },
  {
   "cell_type": "markdown",
   "metadata": {
    "slideshow": {
     "slide_type": "slide"
    }
   },
   "source": [
    "# Automatic derivation of the weak form\n",
    "\n",
    "FEniCS can derive the weak form if the PDE can be \n",
    "obtained from minimisation of a functional\n",
    "\n",
    "The total energy of the drop is\n",
    "\\begin{align}\n",
    "E[h,\\nabla h] = \\int_{\\Omega} \\left(\\sqrt{1 + |\\nabla h|^2} - p h + \\frac{B}{2}h^2\\right)\\, dx\n",
    "\\end{align}"
   ]
  },
  {
   "cell_type": "markdown",
   "metadata": {
    "slideshow": {
     "slide_type": "fragment"
    }
   },
   "source": [
    "The weak form can be obtained using the ```derivative``` function:\n",
    "```python\n",
    "E = (sqrt(1 + dot(grad(h), grad(h))) - p * h + B * h**2 / 2) * dx\n",
    "F = derivative(E, h)\n",
    "```"
   ]
  },
  {
   "cell_type": "markdown",
   "metadata": {
    "slideshow": {
     "slide_type": "slide"
    }
   },
   "source": [
    "# What happens if $B \\gg 1$?\n",
    "\n",
    "* The Bond number is defined as $B = \\rho g H / \\gamma$\n",
    "* $B \\gg 1$ corresponds to a situation where gravity is very strong"
   ]
  },
  {
   "cell_type": "code",
   "execution_count": 11,
   "metadata": {
    "slideshow": {
     "slide_type": "slide"
    }
   },
   "outputs": [
    {
     "name": "stdout",
     "output_type": "stream",
     "text": [
      "Problem assembled and solved in 5.312493000019458 ms\n"
     ]
    },
    {
     "data": {
      "text/plain": [
       "<matplotlib.colorbar.Colorbar at 0x7fe8904010d0>"
      ]
     },
     "execution_count": 11,
     "metadata": {},
     "output_type": "execute_result"
    },
    {
     "data": {
      "image/png": "[encoded data removed]",
      "text/plain": [
       "<Figure size 432x288 with 2 Axes>"
      ]
     },
     "metadata": {
      "needs_background": "light"
     },
     "output_type": "display_data"
    }
   ],
   "source": [
    "B.assign(1000)\n",
    "solve_and_time()\n",
    "fig = plot(h)\n",
    "plt.colorbar(fig)"
   ]
  },
  {
   "cell_type": "markdown",
   "metadata": {
    "slideshow": {
     "slide_type": "slide"
    }
   },
   "source": [
    "# Dealing with boundary layers\n",
    "\n",
    "#### Use a fine mesh\n",
    "* Computationally expensive\n",
    "* Offset by using multiple CPUs\n",
    "* FEniCS can be run in parallel using ```mpirun```"
   ]
  },
  {
   "cell_type": "markdown",
   "metadata": {
    "slideshow": {
     "slide_type": "fragment"
    }
   },
   "source": [
    "#### Using an adaptive mesh\n",
    "* FEniCS can do a goal-based adaptive mesh refinement\n",
    "* Implemented in the  ```AdaptiveNonlinearVariationalSolver``` class"
   ]
  },
  {
   "cell_type": "markdown",
   "metadata": {
    "slideshow": {
     "slide_type": "slide"
    }
   },
   "source": [
    "# Stokes flow in a channel with a cylinder\n",
    "<center>\n",
    "<img width=\"500\" src=\"flow.png\">\n",
    "</center>\n",
    "\n",
    "\n",
    "The incompressible Stokes equations are given by\n",
    "\\begin{align}\n",
    "\\nabla \\cdot \\mathbf{T} &= 0, \\\\\n",
    "\\mathbf{T} &= \\mu (\\nabla \\vec{u} + \\nabla \\vec{u}^T) - p \\mathbf{I}, \\\\\n",
    "\\nabla\\cdot \\vec{u} &= 0.\n",
    "\\end{align}"
   ]
  },
  {
   "cell_type": "markdown",
   "metadata": {
    "slideshow": {
     "slide_type": "slide"
    }
   },
   "source": [
    "The aim is to compute the force exerted on the cylinder by the fluid\n",
    "\\begin{align}\n",
    "F = \\int_{Cylinder} \\vec{e}_z \\cdot (\\mathbf{T} \\vec{n})\\, ds\n",
    "\\end{align}"
   ]
  },
  {
   "cell_type": "markdown",
   "metadata": {
    "slideshow": {
     "slide_type": "slide"
    }
   },
   "source": [
    "# Weak form\n",
    "\n",
    "The weak form for this problem is\n",
    "\\begin{align}\n",
    "\\int_{\\Omega} \\mathbf{T}:\\nabla \\vec{v}\\,dx = 0, \\\\\n",
    "\\int_{\\Omega} (\\nabla \\cdot \\vec{u}) q\\,dx = 0,\n",
    "\\end{align}\n",
    "where $\\vec{v}$ and $q$ are test functions"
   ]
  },
  {
   "cell_type": "markdown",
   "metadata": {
    "slideshow": {
     "slide_type": "slide"
    }
   },
   "source": [
    "# Meshing\n",
    "\n",
    "* We will create a mesh for this problem using Gmsh\n",
    "* This mesh will be loaded into Python and used by FEnICS\n",
    "* The labels of boundaries will also be imported\n",
    "* Makes it easy to apply boundary conditions"
   ]
  },
  {
   "cell_type": "markdown",
   "metadata": {
    "slideshow": {
     "slide_type": "slide"
    }
   },
   "source": [
    "# Summary\n",
    "\n",
    "* FEniCS has many features that make it well suited for research problems\n",
    "* Relatively easy to implement complex models and perform complex calculations\n",
    "* Functionality can be extended through external packages (mshr, meshio, multiphenics, FEniCSx)"
   ]
  }
 ],
 "metadata": {
  "celltoolbar": "Slideshow",
  "kernelspec": {
   "display_name": "Python 3",
   "language": "python",
   "name": "python3"
  },
  "language_info": {
   "codemirror_mode": {
    "name": "ipython",
    "version": 3
   },
   "file_extension": ".py",
   "mimetype": "text/x-python",
   "name": "python",
   "nbconvert_exporter": "python",
   "pygments_lexer": "ipython3",
   "version": "3.8.10"
  },
  "rise": {
   "scroll": true
  }
 },
 "nbformat": 4,
 "nbformat_minor": 4
}
